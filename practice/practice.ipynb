{
 "cells": [
  {
   "cell_type": "code",
   "execution_count": 2,
   "metadata": {},
   "outputs": [],
   "source": [
    "import spacy"
   ]
  },
  {
   "cell_type": "code",
   "execution_count": 3,
   "metadata": {},
   "outputs": [],
   "source": [
    "nlp = spacy.load('en_core_web_sm')"
   ]
  },
  {
   "cell_type": "code",
   "execution_count": 90,
   "metadata": {},
   "outputs": [],
   "source": [
    "def preprocess(text):\n",
    "    doc = nlp(text)\n",
    "\n",
    "    filtered_tokens=[]\n",
    "    for token in doc:\n",
    "        if token.is_stop or token.is_punct:\n",
    "            continue\n",
    "        filtered_tokens.append(token.lemma_)\n",
    "    \n",
    "    return \" \".join(filtered_tokens)"
   ]
  },
  {
   "cell_type": "code",
   "execution_count": 91,
   "metadata": {},
   "outputs": [],
   "source": [
    "corpus = [\n",
    "    \"thor ate pizza\",\n",
    "    \"loki is tall\",\n",
    "    \"Loki is eating\"\n",
    "]"
   ]
  },
  {
   "cell_type": "code",
   "execution_count": 92,
   "metadata": {},
   "outputs": [],
   "source": [
    "processed_corpus = [preprocess(sentence) for sentence in corpus]"
   ]
  },
  {
   "cell_type": "code",
   "execution_count": 93,
   "metadata": {},
   "outputs": [],
   "source": [
    "from sklearn.feature_extraction.text import CountVectorizer"
   ]
  },
  {
   "cell_type": "code",
   "execution_count": 94,
   "metadata": {},
   "outputs": [
    {
     "data": {
      "text/plain": [
       "{'thor': 7,\n",
       " 'eat': 0,\n",
       " 'pizza': 5,\n",
       " 'thor eat': 8,\n",
       " 'eat pizza': 1,\n",
       " 'loki': 2,\n",
       " 'tall': 6,\n",
       " 'loki tall': 4,\n",
       " 'loki eat': 3}"
      ]
     },
     "execution_count": 94,
     "metadata": {},
     "output_type": "execute_result"
    }
   ],
   "source": [
    "v = CountVectorizer(ngram_range=(1,2))\n",
    "v.fit(preprocessed_corpus)\n",
    "v.vocabulary_"
   ]
  },
  {
   "cell_type": "code",
   "execution_count": 95,
   "metadata": {},
   "outputs": [
    {
     "data": {
      "text/plain": [
       "array(['eat', 'eat pizza', 'loki', 'loki eat', 'loki tall', 'pizza',\n",
       "       'tall', 'thor', 'thor eat'], dtype=object)"
      ]
     },
     "execution_count": 95,
     "metadata": {},
     "output_type": "execute_result"
    }
   ],
   "source": [
    "v.get_feature_names_out()"
   ]
  },
  {
   "cell_type": "code",
   "execution_count": 96,
   "metadata": {},
   "outputs": [
    {
     "data": {
      "text/plain": [
       "<1x9 sparse matrix of type '<class 'numpy.int64'>'\n",
       "\twith 2 stored elements in Compressed Sparse Row format>"
      ]
     },
     "execution_count": 96,
     "metadata": {},
     "output_type": "execute_result"
    }
   ],
   "source": [
    "cv = v.transform([\"thor ate pizza\"])\n",
    "cv"
   ]
  },
  {
   "cell_type": "code",
   "execution_count": 97,
   "metadata": {},
   "outputs": [
    {
     "data": {
      "text/plain": [
       "array([[0, 0, 0, 0, 0, 1, 0, 1, 0]], dtype=int64)"
      ]
     },
     "execution_count": 97,
     "metadata": {},
     "output_type": "execute_result"
    }
   ],
   "source": [
    "cv_np = cv.toarray()\n",
    "cv_np"
   ]
  },
  {
   "cell_type": "code",
   "execution_count": 98,
   "metadata": {},
   "outputs": [
    {
     "data": {
      "text/plain": [
       "array([[1, 1, 0, 0, 0, 1, 0, 0, 0]], dtype=int64)"
      ]
     },
     "execution_count": 98,
     "metadata": {},
     "output_type": "execute_result"
    }
   ],
   "source": [
    "v.transform([\"Hulk eat pizza\"]).toarray()"
   ]
  },
  {
   "cell_type": "code",
   "execution_count": 99,
   "metadata": {},
   "outputs": [],
   "source": [
    "import pandas as pd"
   ]
  },
  {
   "cell_type": "code",
   "execution_count": 100,
   "metadata": {},
   "outputs": [],
   "source": [
    "df = pd.read_json(\"../datasets/News_Category_Dataset_v3.json\",lines=True)"
   ]
  },
  {
   "cell_type": "code",
   "execution_count": 101,
   "metadata": {},
   "outputs": [
    {
     "data": {
      "text/plain": [
       "(209527, 6)"
      ]
     },
     "execution_count": 101,
     "metadata": {},
     "output_type": "execute_result"
    }
   ],
   "source": [
    "df.shape"
   ]
  },
  {
   "cell_type": "code",
   "execution_count": 102,
   "metadata": {},
   "outputs": [
    {
     "data": {
      "text/html": [
       "<div>\n",
       "<style scoped>\n",
       "    .dataframe tbody tr th:only-of-type {\n",
       "        vertical-align: middle;\n",
       "    }\n",
       "\n",
       "    .dataframe tbody tr th {\n",
       "        vertical-align: top;\n",
       "    }\n",
       "\n",
       "    .dataframe thead th {\n",
       "        text-align: right;\n",
       "    }\n",
       "</style>\n",
       "<table border=\"1\" class=\"dataframe\">\n",
       "  <thead>\n",
       "    <tr style=\"text-align: right;\">\n",
       "      <th></th>\n",
       "      <th>link</th>\n",
       "      <th>headline</th>\n",
       "      <th>category</th>\n",
       "      <th>short_description</th>\n",
       "      <th>authors</th>\n",
       "      <th>date</th>\n",
       "    </tr>\n",
       "  </thead>\n",
       "  <tbody>\n",
       "    <tr>\n",
       "      <th>0</th>\n",
       "      <td>https://www.huffpost.com/entry/covid-boosters-...</td>\n",
       "      <td>Over 4 Million Americans Roll Up Sleeves For O...</td>\n",
       "      <td>U.S. NEWS</td>\n",
       "      <td>Health experts said it is too early to predict...</td>\n",
       "      <td>Carla K. Johnson, AP</td>\n",
       "      <td>2022-09-23</td>\n",
       "    </tr>\n",
       "    <tr>\n",
       "      <th>1</th>\n",
       "      <td>https://www.huffpost.com/entry/american-airlin...</td>\n",
       "      <td>American Airlines Flyer Charged, Banned For Li...</td>\n",
       "      <td>U.S. NEWS</td>\n",
       "      <td>He was subdued by passengers and crew when he ...</td>\n",
       "      <td>Mary Papenfuss</td>\n",
       "      <td>2022-09-23</td>\n",
       "    </tr>\n",
       "    <tr>\n",
       "      <th>2</th>\n",
       "      <td>https://www.huffpost.com/entry/funniest-tweets...</td>\n",
       "      <td>23 Of The Funniest Tweets About Cats And Dogs ...</td>\n",
       "      <td>COMEDY</td>\n",
       "      <td>\"Until you have a dog you don't understand wha...</td>\n",
       "      <td>Elyse Wanshel</td>\n",
       "      <td>2022-09-23</td>\n",
       "    </tr>\n",
       "    <tr>\n",
       "      <th>3</th>\n",
       "      <td>https://www.huffpost.com/entry/funniest-parent...</td>\n",
       "      <td>The Funniest Tweets From Parents This Week (Se...</td>\n",
       "      <td>PARENTING</td>\n",
       "      <td>\"Accidentally put grown-up toothpaste on my to...</td>\n",
       "      <td>Caroline Bologna</td>\n",
       "      <td>2022-09-23</td>\n",
       "    </tr>\n",
       "    <tr>\n",
       "      <th>4</th>\n",
       "      <td>https://www.huffpost.com/entry/amy-cooper-lose...</td>\n",
       "      <td>Woman Who Called Cops On Black Bird-Watcher Lo...</td>\n",
       "      <td>U.S. NEWS</td>\n",
       "      <td>Amy Cooper accused investment firm Franklin Te...</td>\n",
       "      <td>Nina Golgowski</td>\n",
       "      <td>2022-09-22</td>\n",
       "    </tr>\n",
       "  </tbody>\n",
       "</table>\n",
       "</div>"
      ],
      "text/plain": [
       "                                                link  \\\n",
       "0  https://www.huffpost.com/entry/covid-boosters-...   \n",
       "1  https://www.huffpost.com/entry/american-airlin...   \n",
       "2  https://www.huffpost.com/entry/funniest-tweets...   \n",
       "3  https://www.huffpost.com/entry/funniest-parent...   \n",
       "4  https://www.huffpost.com/entry/amy-cooper-lose...   \n",
       "\n",
       "                                            headline   category  \\\n",
       "0  Over 4 Million Americans Roll Up Sleeves For O...  U.S. NEWS   \n",
       "1  American Airlines Flyer Charged, Banned For Li...  U.S. NEWS   \n",
       "2  23 Of The Funniest Tweets About Cats And Dogs ...     COMEDY   \n",
       "3  The Funniest Tweets From Parents This Week (Se...  PARENTING   \n",
       "4  Woman Who Called Cops On Black Bird-Watcher Lo...  U.S. NEWS   \n",
       "\n",
       "                                   short_description               authors  \\\n",
       "0  Health experts said it is too early to predict...  Carla K. Johnson, AP   \n",
       "1  He was subdued by passengers and crew when he ...        Mary Papenfuss   \n",
       "2  \"Until you have a dog you don't understand wha...         Elyse Wanshel   \n",
       "3  \"Accidentally put grown-up toothpaste on my to...      Caroline Bologna   \n",
       "4  Amy Cooper accused investment firm Franklin Te...        Nina Golgowski   \n",
       "\n",
       "        date  \n",
       "0 2022-09-23  \n",
       "1 2022-09-23  \n",
       "2 2022-09-23  \n",
       "3 2022-09-23  \n",
       "4 2022-09-22  "
      ]
     },
     "execution_count": 102,
     "metadata": {},
     "output_type": "execute_result"
    }
   ],
   "source": [
    "df.head()"
   ]
  },
  {
   "cell_type": "code",
   "execution_count": 103,
   "metadata": {},
   "outputs": [
    {
     "name": "stdout",
     "output_type": "stream",
     "text": [
      "Total categories are : 42\n"
     ]
    },
    {
     "data": {
      "text/plain": [
       "category\n",
       "POLITICS          35602\n",
       "WELLNESS          17945\n",
       "ENTERTAINMENT     17362\n",
       "TRAVEL             9900\n",
       "STYLE & BEAUTY     9814\n",
       "PARENTING          8791\n",
       "HEALTHY LIVING     6694\n",
       "QUEER VOICES       6347\n",
       "FOOD & DRINK       6340\n",
       "BUSINESS           5992\n",
       "COMEDY             5400\n",
       "SPORTS             5077\n",
       "BLACK VOICES       4583\n",
       "HOME & LIVING      4320\n",
       "PARENTS            3955\n",
       "THE WORLDPOST      3664\n",
       "WEDDINGS           3653\n",
       "WOMEN              3572\n",
       "CRIME              3562\n",
       "IMPACT             3484\n",
       "DIVORCE            3426\n",
       "WORLD NEWS         3299\n",
       "MEDIA              2944\n",
       "WEIRD NEWS         2777\n",
       "GREEN              2622\n",
       "WORLDPOST          2579\n",
       "RELIGION           2577\n",
       "STYLE              2254\n",
       "SCIENCE            2206\n",
       "TECH               2104\n",
       "TASTE              2096\n",
       "MONEY              1756\n",
       "ARTS               1509\n",
       "ENVIRONMENT        1444\n",
       "FIFTY              1401\n",
       "GOOD NEWS          1398\n",
       "U.S. NEWS          1377\n",
       "ARTS & CULTURE     1339\n",
       "COLLEGE            1144\n",
       "LATINO VOICES      1130\n",
       "CULTURE & ARTS     1074\n",
       "EDUCATION          1014\n",
       "Name: count, dtype: int64"
      ]
     },
     "execution_count": 103,
     "metadata": {},
     "output_type": "execute_result"
    }
   ],
   "source": [
    "cates = df.groupby('category').ngroups\n",
    "print(f'Total categories are : {cates}')\n",
    "df.category.value_counts()"
   ]
  },
  {
   "cell_type": "code",
   "execution_count": 104,
   "metadata": {},
   "outputs": [
    {
     "data": {
      "text/html": [
       "<div>\n",
       "<style scoped>\n",
       "    .dataframe tbody tr th:only-of-type {\n",
       "        vertical-align: middle;\n",
       "    }\n",
       "\n",
       "    .dataframe tbody tr th {\n",
       "        vertical-align: top;\n",
       "    }\n",
       "\n",
       "    .dataframe thead th {\n",
       "        text-align: right;\n",
       "    }\n",
       "</style>\n",
       "<table border=\"1\" class=\"dataframe\">\n",
       "  <thead>\n",
       "    <tr style=\"text-align: right;\">\n",
       "      <th></th>\n",
       "      <th>link</th>\n",
       "      <th>headline</th>\n",
       "      <th>category</th>\n",
       "      <th>short_description</th>\n",
       "      <th>authors</th>\n",
       "      <th>date</th>\n",
       "    </tr>\n",
       "  </thead>\n",
       "  <tbody>\n",
       "    <tr>\n",
       "      <th>114</th>\n",
       "      <td>https://www.huffpost.com/entry/fuel-leak-ruins...</td>\n",
       "      <td>Fuel Leak Ruins NASA's 2nd Shot At Launching N...</td>\n",
       "      <td>SCIENCE</td>\n",
       "      <td>Part of the space agency's Artemis program, th...</td>\n",
       "      <td>Marcia Dunn, AP</td>\n",
       "      <td>2022-09-03</td>\n",
       "    </tr>\n",
       "    <tr>\n",
       "      <th>135</th>\n",
       "      <td>https://www.huffpost.com/entry/nasa-artemis-mo...</td>\n",
       "      <td>'Safety Is Always First': NASA Reschedules Art...</td>\n",
       "      <td>SCIENCE</td>\n",
       "      <td>“We’re going to play all nine innings here,” t...</td>\n",
       "      <td>Nick Visser</td>\n",
       "      <td>2022-08-30</td>\n",
       "    </tr>\n",
       "    <tr>\n",
       "      <th>305</th>\n",
       "      <td>https://www.huffpost.com/entry/china-rocket-de...</td>\n",
       "      <td>Chinese Rocket Debris Makes Out-Of-Control Fal...</td>\n",
       "      <td>SCIENCE</td>\n",
       "      <td>Video shows people apparently spotting the roc...</td>\n",
       "      <td>Ben Blanchet</td>\n",
       "      <td>2022-07-31</td>\n",
       "    </tr>\n",
       "    <tr>\n",
       "      <th>384</th>\n",
       "      <td>https://www.huffpost.com/entry/arthurs-stone-e...</td>\n",
       "      <td>Ancient Tomb Linked By Legend To King Arthur T...</td>\n",
       "      <td>SCIENCE</td>\n",
       "      <td>Experts already believe the site served as mor...</td>\n",
       "      <td>Ed Mazza</td>\n",
       "      <td>2022-07-13</td>\n",
       "    </tr>\n",
       "    <tr>\n",
       "      <th>389</th>\n",
       "      <td>https://www.huffpost.com/entry/james-webb-spac...</td>\n",
       "      <td>‘Galaxy Gazing Is The New Stargazing’: Cosmolo...</td>\n",
       "      <td>SCIENCE</td>\n",
       "      <td>\"It's going to be fun, this telescope.\"</td>\n",
       "      <td>Nick Visser</td>\n",
       "      <td>2022-07-12</td>\n",
       "    </tr>\n",
       "    <tr>\n",
       "      <th>...</th>\n",
       "      <td>...</td>\n",
       "      <td>...</td>\n",
       "      <td>...</td>\n",
       "      <td>...</td>\n",
       "      <td>...</td>\n",
       "      <td>...</td>\n",
       "    </tr>\n",
       "    <tr>\n",
       "      <th>209428</th>\n",
       "      <td>https://www.huffingtonpost.com/entry/treating-...</td>\n",
       "      <td>Treating a World Without Antibiotics?</td>\n",
       "      <td>SCIENCE</td>\n",
       "      <td>Because of the overuse of antibiotics, antibio...</td>\n",
       "      <td>Stanley M. Bergman, Contributor\\nStanley N. Be...</td>\n",
       "      <td>2012-01-29</td>\n",
       "    </tr>\n",
       "    <tr>\n",
       "      <th>209489</th>\n",
       "      <td>https://www.huffingtonpost.com/entry/russian-c...</td>\n",
       "      <td>Russian Cargo Ship Docks At International Spac...</td>\n",
       "      <td>SCIENCE</td>\n",
       "      <td>Gallery: Space Station's Expedition 30 Mission...</td>\n",
       "      <td></td>\n",
       "      <td>2012-01-28</td>\n",
       "    </tr>\n",
       "    <tr>\n",
       "      <th>209490</th>\n",
       "      <td>https://www.huffingtonpost.com/entry/robots-pl...</td>\n",
       "      <td>Robots Play Catch, Starring Agile Justin And R...</td>\n",
       "      <td>SCIENCE</td>\n",
       "      <td>image 1: throw As Hizook reports, DLR started ...</td>\n",
       "      <td>Travis Korte</td>\n",
       "      <td>2012-01-28</td>\n",
       "    </tr>\n",
       "    <tr>\n",
       "      <th>209491</th>\n",
       "      <td>https://www.huffingtonpost.com/entry/thomas-ed...</td>\n",
       "      <td>Thomas Edison Voted Most Iconic Inventor In U....</td>\n",
       "      <td>SCIENCE</td>\n",
       "      <td>That doesn't mean Jobs lacks for fans in the w...</td>\n",
       "      <td></td>\n",
       "      <td>2012-01-28</td>\n",
       "    </tr>\n",
       "    <tr>\n",
       "      <th>209492</th>\n",
       "      <td>https://www.huffingtonpost.com/entry/aurora-fr...</td>\n",
       "      <td>Aurora Borealis Caused By Huge Solar Storm Shi...</td>\n",
       "      <td>SCIENCE</td>\n",
       "      <td>Aurora borealis can typically only be seen at ...</td>\n",
       "      <td></td>\n",
       "      <td>2012-01-28</td>\n",
       "    </tr>\n",
       "  </tbody>\n",
       "</table>\n",
       "<p>2206 rows × 6 columns</p>\n",
       "</div>"
      ],
      "text/plain": [
       "                                                     link  \\\n",
       "114     https://www.huffpost.com/entry/fuel-leak-ruins...   \n",
       "135     https://www.huffpost.com/entry/nasa-artemis-mo...   \n",
       "305     https://www.huffpost.com/entry/china-rocket-de...   \n",
       "384     https://www.huffpost.com/entry/arthurs-stone-e...   \n",
       "389     https://www.huffpost.com/entry/james-webb-spac...   \n",
       "...                                                   ...   \n",
       "209428  https://www.huffingtonpost.com/entry/treating-...   \n",
       "209489  https://www.huffingtonpost.com/entry/russian-c...   \n",
       "209490  https://www.huffingtonpost.com/entry/robots-pl...   \n",
       "209491  https://www.huffingtonpost.com/entry/thomas-ed...   \n",
       "209492  https://www.huffingtonpost.com/entry/aurora-fr...   \n",
       "\n",
       "                                                 headline category  \\\n",
       "114     Fuel Leak Ruins NASA's 2nd Shot At Launching N...  SCIENCE   \n",
       "135     'Safety Is Always First': NASA Reschedules Art...  SCIENCE   \n",
       "305     Chinese Rocket Debris Makes Out-Of-Control Fal...  SCIENCE   \n",
       "384     Ancient Tomb Linked By Legend To King Arthur T...  SCIENCE   \n",
       "389     ‘Galaxy Gazing Is The New Stargazing’: Cosmolo...  SCIENCE   \n",
       "...                                                   ...      ...   \n",
       "209428              Treating a World Without Antibiotics?  SCIENCE   \n",
       "209489  Russian Cargo Ship Docks At International Spac...  SCIENCE   \n",
       "209490  Robots Play Catch, Starring Agile Justin And R...  SCIENCE   \n",
       "209491  Thomas Edison Voted Most Iconic Inventor In U....  SCIENCE   \n",
       "209492  Aurora Borealis Caused By Huge Solar Storm Shi...  SCIENCE   \n",
       "\n",
       "                                        short_description  \\\n",
       "114     Part of the space agency's Artemis program, th...   \n",
       "135     “We’re going to play all nine innings here,” t...   \n",
       "305     Video shows people apparently spotting the roc...   \n",
       "384     Experts already believe the site served as mor...   \n",
       "389               \"It's going to be fun, this telescope.\"   \n",
       "...                                                   ...   \n",
       "209428  Because of the overuse of antibiotics, antibio...   \n",
       "209489  Gallery: Space Station's Expedition 30 Mission...   \n",
       "209490  image 1: throw As Hizook reports, DLR started ...   \n",
       "209491  That doesn't mean Jobs lacks for fans in the w...   \n",
       "209492  Aurora borealis can typically only be seen at ...   \n",
       "\n",
       "                                                  authors       date  \n",
       "114                                       Marcia Dunn, AP 2022-09-03  \n",
       "135                                           Nick Visser 2022-08-30  \n",
       "305                                          Ben Blanchet 2022-07-31  \n",
       "384                                              Ed Mazza 2022-07-13  \n",
       "389                                           Nick Visser 2022-07-12  \n",
       "...                                                   ...        ...  \n",
       "209428  Stanley M. Bergman, Contributor\\nStanley N. Be... 2012-01-29  \n",
       "209489                                                    2012-01-28  \n",
       "209490                                       Travis Korte 2012-01-28  \n",
       "209491                                                    2012-01-28  \n",
       "209492                                                    2012-01-28  \n",
       "\n",
       "[2206 rows x 6 columns]"
      ]
     },
     "execution_count": 104,
     "metadata": {},
     "output_type": "execute_result"
    }
   ],
   "source": [
    "df[category == 'SCIENCE']"
   ]
  },
  {
   "cell_type": "code",
   "execution_count": 105,
   "metadata": {},
   "outputs": [],
   "source": [
    "df = df.drop(['authors','date','short_description'],axis='columns')"
   ]
  },
  {
   "cell_type": "code",
   "execution_count": 106,
   "metadata": {},
   "outputs": [
    {
     "data": {
      "text/plain": [
       "Index(['link', 'headline', 'category'], dtype='object')"
      ]
     },
     "execution_count": 106,
     "metadata": {},
     "output_type": "execute_result"
    }
   ],
   "source": [
    "# df.head()\n",
    "df.columns"
   ]
  },
  {
   "cell_type": "code",
   "execution_count": 107,
   "metadata": {},
   "outputs": [
    {
     "data": {
      "text/html": [
       "<div>\n",
       "<style scoped>\n",
       "    .dataframe tbody tr th:only-of-type {\n",
       "        vertical-align: middle;\n",
       "    }\n",
       "\n",
       "    .dataframe tbody tr th {\n",
       "        vertical-align: top;\n",
       "    }\n",
       "\n",
       "    .dataframe thead th {\n",
       "        text-align: right;\n",
       "    }\n",
       "</style>\n",
       "<table border=\"1\" class=\"dataframe\">\n",
       "  <thead>\n",
       "    <tr style=\"text-align: right;\">\n",
       "      <th></th>\n",
       "      <th>link</th>\n",
       "      <th>headline</th>\n",
       "      <th>category</th>\n",
       "    </tr>\n",
       "  </thead>\n",
       "  <tbody>\n",
       "    <tr>\n",
       "      <th>0</th>\n",
       "      <td>https://www.huffpost.com/entry/covid-boosters-...</td>\n",
       "      <td>Over 4 Million Americans Roll Up Sleeves For O...</td>\n",
       "      <td>U.S. NEWS</td>\n",
       "    </tr>\n",
       "    <tr>\n",
       "      <th>1</th>\n",
       "      <td>https://www.huffpost.com/entry/american-airlin...</td>\n",
       "      <td>American Airlines Flyer Charged, Banned For Li...</td>\n",
       "      <td>U.S. NEWS</td>\n",
       "    </tr>\n",
       "    <tr>\n",
       "      <th>2</th>\n",
       "      <td>https://www.huffpost.com/entry/funniest-tweets...</td>\n",
       "      <td>23 Of The Funniest Tweets About Cats And Dogs ...</td>\n",
       "      <td>COMEDY</td>\n",
       "    </tr>\n",
       "    <tr>\n",
       "      <th>3</th>\n",
       "      <td>https://www.huffpost.com/entry/funniest-parent...</td>\n",
       "      <td>The Funniest Tweets From Parents This Week (Se...</td>\n",
       "      <td>PARENTING</td>\n",
       "    </tr>\n",
       "    <tr>\n",
       "      <th>4</th>\n",
       "      <td>https://www.huffpost.com/entry/amy-cooper-lose...</td>\n",
       "      <td>Woman Who Called Cops On Black Bird-Watcher Lo...</td>\n",
       "      <td>U.S. NEWS</td>\n",
       "    </tr>\n",
       "  </tbody>\n",
       "</table>\n",
       "</div>"
      ],
      "text/plain": [
       "                                                link  \\\n",
       "0  https://www.huffpost.com/entry/covid-boosters-...   \n",
       "1  https://www.huffpost.com/entry/american-airlin...   \n",
       "2  https://www.huffpost.com/entry/funniest-tweets...   \n",
       "3  https://www.huffpost.com/entry/funniest-parent...   \n",
       "4  https://www.huffpost.com/entry/amy-cooper-lose...   \n",
       "\n",
       "                                            headline   category  \n",
       "0  Over 4 Million Americans Roll Up Sleeves For O...  U.S. NEWS  \n",
       "1  American Airlines Flyer Charged, Banned For Li...  U.S. NEWS  \n",
       "2  23 Of The Funniest Tweets About Cats And Dogs ...     COMEDY  \n",
       "3  The Funniest Tweets From Parents This Week (Se...  PARENTING  \n",
       "4  Woman Who Called Cops On Black Bird-Watcher Lo...  U.S. NEWS  "
      ]
     },
     "execution_count": 107,
     "metadata": {},
     "output_type": "execute_result"
    }
   ],
   "source": [
    "df.head()"
   ]
  },
  {
   "cell_type": "code",
   "execution_count": 108,
   "metadata": {},
   "outputs": [
    {
     "data": {
      "text/plain": [
       "category\n",
       "POLITICS          35602\n",
       "WELLNESS          17945\n",
       "ENTERTAINMENT     17362\n",
       "TRAVEL             9900\n",
       "STYLE & BEAUTY     9814\n",
       "PARENTING          8791\n",
       "HEALTHY LIVING     6694\n",
       "QUEER VOICES       6347\n",
       "FOOD & DRINK       6340\n",
       "BUSINESS           5992\n",
       "COMEDY             5400\n",
       "SPORTS             5077\n",
       "BLACK VOICES       4583\n",
       "HOME & LIVING      4320\n",
       "PARENTS            3955\n",
       "THE WORLDPOST      3664\n",
       "WEDDINGS           3653\n",
       "WOMEN              3572\n",
       "CRIME              3562\n",
       "IMPACT             3484\n",
       "DIVORCE            3426\n",
       "WORLD NEWS         3299\n",
       "MEDIA              2944\n",
       "WEIRD NEWS         2777\n",
       "GREEN              2622\n",
       "WORLDPOST          2579\n",
       "RELIGION           2577\n",
       "STYLE              2254\n",
       "SCIENCE            2206\n",
       "TECH               2104\n",
       "TASTE              2096\n",
       "MONEY              1756\n",
       "ARTS               1509\n",
       "ENVIRONMENT        1444\n",
       "FIFTY              1401\n",
       "GOOD NEWS          1398\n",
       "U.S. NEWS          1377\n",
       "ARTS & CULTURE     1339\n",
       "COLLEGE            1144\n",
       "LATINO VOICES      1130\n",
       "CULTURE & ARTS     1074\n",
       "EDUCATION          1014\n",
       "Name: count, dtype: int64"
      ]
     },
     "execution_count": 108,
     "metadata": {},
     "output_type": "execute_result"
    }
   ],
   "source": [
    "df.category.value_counts()"
   ]
  },
  {
   "cell_type": "code",
   "execution_count": 109,
   "metadata": {},
   "outputs": [],
   "source": [
    "df.drop(df[((df['category'] != 'BUSINESS')) & (df['category'] != 'SPORTS') & (df['category'] != 'CRIME') & (df['category'] != 'SCIENCE')].index,inplace=True)"
   ]
  },
  {
   "cell_type": "code",
   "execution_count": 110,
   "metadata": {},
   "outputs": [
    {
     "data": {
      "text/html": [
       "<div>\n",
       "<style scoped>\n",
       "    .dataframe tbody tr th:only-of-type {\n",
       "        vertical-align: middle;\n",
       "    }\n",
       "\n",
       "    .dataframe tbody tr th {\n",
       "        vertical-align: top;\n",
       "    }\n",
       "\n",
       "    .dataframe thead th {\n",
       "        text-align: right;\n",
       "    }\n",
       "</style>\n",
       "<table border=\"1\" class=\"dataframe\">\n",
       "  <thead>\n",
       "    <tr style=\"text-align: right;\">\n",
       "      <th></th>\n",
       "      <th>link</th>\n",
       "      <th>headline</th>\n",
       "      <th>category</th>\n",
       "    </tr>\n",
       "  </thead>\n",
       "  <tbody>\n",
       "    <tr>\n",
       "      <th>17</th>\n",
       "      <td>https://www.huffpost.com/entry/dodgers-basebal...</td>\n",
       "      <td>Maury Wills, Base-Stealing Shortstop For Dodge...</td>\n",
       "      <td>SPORTS</td>\n",
       "    </tr>\n",
       "    <tr>\n",
       "      <th>26</th>\n",
       "      <td>https://www.huffpost.com/entry/2022-wnba-final...</td>\n",
       "      <td>Las Vegas Aces Win First WNBA Title, Chelsea G...</td>\n",
       "      <td>SPORTS</td>\n",
       "    </tr>\n",
       "    <tr>\n",
       "      <th>61</th>\n",
       "      <td>https://www.huffpost.com/entry/boston-marathon...</td>\n",
       "      <td>Boston Marathon To Make Race More Inclusive Fo...</td>\n",
       "      <td>SPORTS</td>\n",
       "    </tr>\n",
       "    <tr>\n",
       "      <th>62</th>\n",
       "      <td>https://www.huffpost.com/entry/anthony-varvaro...</td>\n",
       "      <td>Anthony Varvaro, MLB Pitcher Turned Transit Co...</td>\n",
       "      <td>SPORTS</td>\n",
       "    </tr>\n",
       "    <tr>\n",
       "      <th>67</th>\n",
       "      <td>https://www.huffpost.com/entry/carlos-alcaraz-...</td>\n",
       "      <td>Carlos Alcaraz Wins U.S. Open For 1st Slam Tit...</td>\n",
       "      <td>SPORTS</td>\n",
       "    </tr>\n",
       "  </tbody>\n",
       "</table>\n",
       "</div>"
      ],
      "text/plain": [
       "                                                 link  \\\n",
       "17  https://www.huffpost.com/entry/dodgers-basebal...   \n",
       "26  https://www.huffpost.com/entry/2022-wnba-final...   \n",
       "61  https://www.huffpost.com/entry/boston-marathon...   \n",
       "62  https://www.huffpost.com/entry/anthony-varvaro...   \n",
       "67  https://www.huffpost.com/entry/carlos-alcaraz-...   \n",
       "\n",
       "                                             headline category  \n",
       "17  Maury Wills, Base-Stealing Shortstop For Dodge...   SPORTS  \n",
       "26  Las Vegas Aces Win First WNBA Title, Chelsea G...   SPORTS  \n",
       "61  Boston Marathon To Make Race More Inclusive Fo...   SPORTS  \n",
       "62  Anthony Varvaro, MLB Pitcher Turned Transit Co...   SPORTS  \n",
       "67  Carlos Alcaraz Wins U.S. Open For 1st Slam Tit...   SPORTS  "
      ]
     },
     "execution_count": 110,
     "metadata": {},
     "output_type": "execute_result"
    }
   ],
   "source": [
    "df.head()"
   ]
  },
  {
   "cell_type": "code",
   "execution_count": 111,
   "metadata": {},
   "outputs": [
    {
     "data": {
      "text/plain": [
       "(16837, 3)"
      ]
     },
     "execution_count": 111,
     "metadata": {},
     "output_type": "execute_result"
    }
   ],
   "source": [
    "df.shape"
   ]
  },
  {
   "cell_type": "code",
   "execution_count": 112,
   "metadata": {},
   "outputs": [
    {
     "data": {
      "text/plain": [
       "category\n",
       "BUSINESS    5992\n",
       "SPORTS      5077\n",
       "CRIME       3562\n",
       "SCIENCE     2206\n",
       "Name: count, dtype: int64"
      ]
     },
     "execution_count": 112,
     "metadata": {},
     "output_type": "execute_result"
    }
   ],
   "source": [
    "df.category.value_counts()"
   ]
  },
  {
   "cell_type": "code",
   "execution_count": 113,
   "metadata": {},
   "outputs": [],
   "source": [
    "min_samples = 2206\n",
    "\n",
    "df_business = df[df.category == 'BUSINESS'].sample(min_samples,random_state = 2024)\n",
    "df_sports = df[df.category == 'SPORTS'].sample(min_samples,random_state = 2024)\n",
    "df_science = df[df.category == 'SCIENCE'].sample(min_samples,random_state = 2024)\n",
    "df_crime = df[df.category == 'CRIME'].sample(min_samples,random_state = 2024)"
   ]
  },
  {
   "cell_type": "code",
   "execution_count": 114,
   "metadata": {},
   "outputs": [],
   "source": [
    "balanced_df = pd.concat([df_business,df_crime,df_science,df_sports],axis=0)"
   ]
  },
  {
   "cell_type": "code",
   "execution_count": 115,
   "metadata": {},
   "outputs": [
    {
     "data": {
      "text/plain": [
       "category\n",
       "BUSINESS    2206\n",
       "CRIME       2206\n",
       "SCIENCE     2206\n",
       "SPORTS      2206\n",
       "Name: count, dtype: int64"
      ]
     },
     "execution_count": 115,
     "metadata": {},
     "output_type": "execute_result"
    }
   ],
   "source": [
    "balanced_df.category.value_counts()"
   ]
  },
  {
   "cell_type": "code",
   "execution_count": 118,
   "metadata": {},
   "outputs": [],
   "source": [
    "balanced_df['category_num'] = balanced_df.category.map({\n",
    "    'BUSINESS':0,\n",
    "    'SPORTS':1,\n",
    "    'CRIME':2,\n",
    "    'SCIENCE':3\n",
    "})\n",
    "balanced_df['text'] = balanced_df.headline"
   ]
  },
  {
   "cell_type": "code",
   "execution_count": 117,
   "metadata": {},
   "outputs": [
    {
     "data": {
      "text/html": [
       "<div>\n",
       "<style scoped>\n",
       "    .dataframe tbody tr th:only-of-type {\n",
       "        vertical-align: middle;\n",
       "    }\n",
       "\n",
       "    .dataframe tbody tr th {\n",
       "        vertical-align: top;\n",
       "    }\n",
       "\n",
       "    .dataframe thead th {\n",
       "        text-align: right;\n",
       "    }\n",
       "</style>\n",
       "<table border=\"1\" class=\"dataframe\">\n",
       "  <thead>\n",
       "    <tr style=\"text-align: right;\">\n",
       "      <th></th>\n",
       "      <th>link</th>\n",
       "      <th>headline</th>\n",
       "      <th>category</th>\n",
       "      <th>category_num</th>\n",
       "      <th>text</th>\n",
       "    </tr>\n",
       "  </thead>\n",
       "  <tbody>\n",
       "    <tr>\n",
       "      <th>84716</th>\n",
       "      <td>https://www.huffingtonpost.comhttp://247wallst...</td>\n",
       "      <td>The Most Unusual Ancestry In Each State</td>\n",
       "      <td>BUSINESS</td>\n",
       "      <td>0</td>\n",
       "      <td>The Most Unusual Ancestry In Each State</td>\n",
       "    </tr>\n",
       "    <tr>\n",
       "      <th>115303</th>\n",
       "      <td>https://www.huffingtonpost.com/entry/recycling...</td>\n",
       "      <td>Recycling Opens the Door to a Circular Economy</td>\n",
       "      <td>BUSINESS</td>\n",
       "      <td>0</td>\n",
       "      <td>Recycling Opens the Door to a Circular Economy</td>\n",
       "    </tr>\n",
       "    <tr>\n",
       "      <th>113105</th>\n",
       "      <td>https://www.huffingtonpost.com/entry/in-n-out-...</td>\n",
       "      <td>In-N-Out Ranks Higher Than Apple On List Of Be...</td>\n",
       "      <td>BUSINESS</td>\n",
       "      <td>0</td>\n",
       "      <td>In-N-Out Ranks Higher Than Apple On List Of Be...</td>\n",
       "    </tr>\n",
       "    <tr>\n",
       "      <th>172993</th>\n",
       "      <td>https://www.huffingtonpost.comhttp://www.nytim...</td>\n",
       "      <td>Major Banks Help Shady Lenders Banned By States</td>\n",
       "      <td>BUSINESS</td>\n",
       "      <td>0</td>\n",
       "      <td>Major Banks Help Shady Lenders Banned By States</td>\n",
       "    </tr>\n",
       "    <tr>\n",
       "      <th>38283</th>\n",
       "      <td>https://www.huffingtonpost.com/entry/passenger...</td>\n",
       "      <td>Passengers Aren’t The Priority For United Airl...</td>\n",
       "      <td>BUSINESS</td>\n",
       "      <td>0</td>\n",
       "      <td>Passengers Aren’t The Priority For United Airl...</td>\n",
       "    </tr>\n",
       "  </tbody>\n",
       "</table>\n",
       "</div>"
      ],
      "text/plain": [
       "                                                     link  \\\n",
       "84716   https://www.huffingtonpost.comhttp://247wallst...   \n",
       "115303  https://www.huffingtonpost.com/entry/recycling...   \n",
       "113105  https://www.huffingtonpost.com/entry/in-n-out-...   \n",
       "172993  https://www.huffingtonpost.comhttp://www.nytim...   \n",
       "38283   https://www.huffingtonpost.com/entry/passenger...   \n",
       "\n",
       "                                                 headline  category  \\\n",
       "84716             The Most Unusual Ancestry In Each State  BUSINESS   \n",
       "115303     Recycling Opens the Door to a Circular Economy  BUSINESS   \n",
       "113105  In-N-Out Ranks Higher Than Apple On List Of Be...  BUSINESS   \n",
       "172993    Major Banks Help Shady Lenders Banned By States  BUSINESS   \n",
       "38283   Passengers Aren’t The Priority For United Airl...  BUSINESS   \n",
       "\n",
       "        category_num                                               text  \n",
       "84716              0            The Most Unusual Ancestry In Each State  \n",
       "115303             0     Recycling Opens the Door to a Circular Economy  \n",
       "113105             0  In-N-Out Ranks Higher Than Apple On List Of Be...  \n",
       "172993             0    Major Banks Help Shady Lenders Banned By States  \n",
       "38283              0  Passengers Aren’t The Priority For United Airl...  "
      ]
     },
     "execution_count": 117,
     "metadata": {},
     "output_type": "execute_result"
    }
   ],
   "source": [
    "balanced_df.head()"
   ]
  },
  {
   "cell_type": "code",
   "execution_count": 123,
   "metadata": {},
   "outputs": [],
   "source": [
    "balanced_df.drop(['link','category','text'],axis=1,inplace=True)"
   ]
  },
  {
   "cell_type": "code",
   "execution_count": 129,
   "metadata": {},
   "outputs": [
    {
     "data": {
      "text/html": [
       "<div>\n",
       "<style scoped>\n",
       "    .dataframe tbody tr th:only-of-type {\n",
       "        vertical-align: middle;\n",
       "    }\n",
       "\n",
       "    .dataframe tbody tr th {\n",
       "        vertical-align: top;\n",
       "    }\n",
       "\n",
       "    .dataframe thead th {\n",
       "        text-align: right;\n",
       "    }\n",
       "</style>\n",
       "<table border=\"1\" class=\"dataframe\">\n",
       "  <thead>\n",
       "    <tr style=\"text-align: right;\">\n",
       "      <th></th>\n",
       "      <th>Text</th>\n",
       "      <th>n_category</th>\n",
       "    </tr>\n",
       "  </thead>\n",
       "  <tbody>\n",
       "    <tr>\n",
       "      <th>84716</th>\n",
       "      <td>The Most Unusual Ancestry In Each State</td>\n",
       "      <td>0</td>\n",
       "    </tr>\n",
       "    <tr>\n",
       "      <th>115303</th>\n",
       "      <td>Recycling Opens the Door to a Circular Economy</td>\n",
       "      <td>0</td>\n",
       "    </tr>\n",
       "    <tr>\n",
       "      <th>113105</th>\n",
       "      <td>In-N-Out Ranks Higher Than Apple On List Of Be...</td>\n",
       "      <td>0</td>\n",
       "    </tr>\n",
       "    <tr>\n",
       "      <th>172993</th>\n",
       "      <td>Major Banks Help Shady Lenders Banned By States</td>\n",
       "      <td>0</td>\n",
       "    </tr>\n",
       "    <tr>\n",
       "      <th>38283</th>\n",
       "      <td>Passengers Aren’t The Priority For United Airl...</td>\n",
       "      <td>0</td>\n",
       "    </tr>\n",
       "  </tbody>\n",
       "</table>\n",
       "</div>"
      ],
      "text/plain": [
       "                                                     Text  n_category\n",
       "84716             The Most Unusual Ancestry In Each State           0\n",
       "115303     Recycling Opens the Door to a Circular Economy           0\n",
       "113105  In-N-Out Ranks Higher Than Apple On List Of Be...           0\n",
       "172993    Major Banks Help Shady Lenders Banned By States           0\n",
       "38283   Passengers Aren’t The Priority For United Airl...           0"
      ]
     },
     "execution_count": 129,
     "metadata": {},
     "output_type": "execute_result"
    }
   ],
   "source": [
    "balanced_df.columns = ['Text','n_category']\n",
    "balanced_df.head()"
   ]
  },
  {
   "cell_type": "code",
   "execution_count": 131,
   "metadata": {},
   "outputs": [],
   "source": [
    "from sklearn.model_selection import train_test_split\n",
    "\n",
    "xtr,xt,ytr,yt = train_test_split(balanced_df.Text ,\n",
    " balanced_df.n_category ,\n",
    " test_size=0.2,\n",
    " random_state=2024,\n",
    " stratify=balanced_df.n_category\n",
    ")"
   ]
  },
  {
   "cell_type": "code",
   "execution_count": 132,
   "metadata": {},
   "outputs": [
    {
     "data": {
      "text/plain": [
       "85487     SeaWorld Orca Mom Too 'Depressed' To Nurse Her...\n",
       "74981     Bernie Sanders' Home State Just Passed A Paid ...\n",
       "145146    Army-Navy Game Included A Marriage Proposal As...\n",
       "125014       Enjoy the Show: Learn More After 'Sharknado 2'\n",
       "120567    Scientists Say They've Created A Freaky New Fo...\n",
       "Name: Text, dtype: object"
      ]
     },
     "execution_count": 132,
     "metadata": {},
     "output_type": "execute_result"
    }
   ],
   "source": [
    "xtr.head()"
   ]
  },
  {
   "cell_type": "code",
   "execution_count": 139,
   "metadata": {},
   "outputs": [
    {
     "data": {
      "text/plain": [
       "(7059,)"
      ]
     },
     "execution_count": 139,
     "metadata": {},
     "output_type": "execute_result"
    }
   ],
   "source": [
    "xtr.shape"
   ]
  },
  {
   "cell_type": "code",
   "execution_count": 140,
   "metadata": {},
   "outputs": [
    {
     "data": {
      "text/plain": [
       "n_category\n",
       "3    1765\n",
       "1    1765\n",
       "2    1765\n",
       "0    1764\n",
       "Name: count, dtype: int64"
      ]
     },
     "execution_count": 140,
     "metadata": {},
     "output_type": "execute_result"
    }
   ],
   "source": [
    "ytr.value_counts()"
   ]
  },
  {
   "cell_type": "code",
   "execution_count": 141,
   "metadata": {},
   "outputs": [],
   "source": [
    "from sklearn.naive_bayes import MultinomialNB\n",
    "from sklearn.pipeline import Pipeline\n",
    "from sklearn.metrics import classification_report"
   ]
  },
  {
   "cell_type": "code",
   "execution_count": 145,
   "metadata": {},
   "outputs": [
    {
     "name": "stdout",
     "output_type": "stream",
     "text": [
      "              precision    recall  f1-score   support\n",
      "\n",
      "           0       0.81      0.88      0.84       442\n",
      "           1       0.91      0.87      0.89       441\n",
      "           2       0.88      0.86      0.87       441\n",
      "           3       0.87      0.86      0.87       441\n",
      "\n",
      "    accuracy                           0.87      1765\n",
      "   macro avg       0.87      0.87      0.87      1765\n",
      "weighted avg       0.87      0.87      0.87      1765\n",
      "\n"
     ]
    }
   ],
   "source": [
    "clf = Pipeline([\n",
    "    ('v',CountVectorizer()),\n",
    "    ('nb',MultinomialNB())\n",
    "])\n",
    "clf.fit(xtr,ytr)\n",
    "ypred = clf.predict(xt)\n",
    "print(classification_report(yt,ypred))"
   ]
  },
  {
   "cell_type": "code",
   "execution_count": 146,
   "metadata": {},
   "outputs": [
    {
     "name": "stdout",
     "output_type": "stream",
     "text": [
      "              precision    recall  f1-score   support\n",
      "\n",
      "           0       0.80      0.86      0.83       442\n",
      "           1       0.91      0.87      0.89       441\n",
      "           2       0.87      0.85      0.86       441\n",
      "           3       0.86      0.85      0.85       441\n",
      "\n",
      "    accuracy                           0.86      1765\n",
      "   macro avg       0.86      0.86      0.86      1765\n",
      "weighted avg       0.86      0.86      0.86      1765\n",
      "\n"
     ]
    }
   ],
   "source": [
    "clf = Pipeline([\n",
    "    ('v',CountVectorizer(ngram_range=(1,2))),\n",
    "    ('nb',MultinomialNB())\n",
    "])\n",
    "clf.fit(xtr,ytr)\n",
    "ypred = clf.predict(xt)\n",
    "print(classification_report(yt,ypred))"
   ]
  },
  {
   "cell_type": "code",
   "execution_count": 147,
   "metadata": {},
   "outputs": [],
   "source": [
    "balanced_df['preprocessed_text'] = balanced_df.Text.apply(preprocess)"
   ]
  },
  {
   "cell_type": "code",
   "execution_count": 148,
   "metadata": {},
   "outputs": [
    {
     "data": {
      "text/html": [
       "<div>\n",
       "<style scoped>\n",
       "    .dataframe tbody tr th:only-of-type {\n",
       "        vertical-align: middle;\n",
       "    }\n",
       "\n",
       "    .dataframe tbody tr th {\n",
       "        vertical-align: top;\n",
       "    }\n",
       "\n",
       "    .dataframe thead th {\n",
       "        text-align: right;\n",
       "    }\n",
       "</style>\n",
       "<table border=\"1\" class=\"dataframe\">\n",
       "  <thead>\n",
       "    <tr style=\"text-align: right;\">\n",
       "      <th></th>\n",
       "      <th>Text</th>\n",
       "      <th>n_category</th>\n",
       "      <th>preprocessed_text</th>\n",
       "    </tr>\n",
       "  </thead>\n",
       "  <tbody>\n",
       "    <tr>\n",
       "      <th>84716</th>\n",
       "      <td>The Most Unusual Ancestry In Each State</td>\n",
       "      <td>0</td>\n",
       "      <td>Unusual Ancestry state</td>\n",
       "    </tr>\n",
       "    <tr>\n",
       "      <th>115303</th>\n",
       "      <td>Recycling Opens the Door to a Circular Economy</td>\n",
       "      <td>0</td>\n",
       "      <td>recycle Opens Door circular economy</td>\n",
       "    </tr>\n",
       "    <tr>\n",
       "      <th>113105</th>\n",
       "      <td>In-N-Out Ranks Higher Than Apple On List Of Be...</td>\n",
       "      <td>0</td>\n",
       "      <td>N rank high Apple List Best Places work</td>\n",
       "    </tr>\n",
       "    <tr>\n",
       "      <th>172993</th>\n",
       "      <td>Major Banks Help Shady Lenders Banned By States</td>\n",
       "      <td>0</td>\n",
       "      <td>major Banks help Shady Lenders ban state</td>\n",
       "    </tr>\n",
       "    <tr>\n",
       "      <th>38283</th>\n",
       "      <td>Passengers Aren’t The Priority For United Airl...</td>\n",
       "      <td>0</td>\n",
       "      <td>passenger Priority United Airlines</td>\n",
       "    </tr>\n",
       "  </tbody>\n",
       "</table>\n",
       "</div>"
      ],
      "text/plain": [
       "                                                     Text  n_category  \\\n",
       "84716             The Most Unusual Ancestry In Each State           0   \n",
       "115303     Recycling Opens the Door to a Circular Economy           0   \n",
       "113105  In-N-Out Ranks Higher Than Apple On List Of Be...           0   \n",
       "172993    Major Banks Help Shady Lenders Banned By States           0   \n",
       "38283   Passengers Aren’t The Priority For United Airl...           0   \n",
       "\n",
       "                               preprocessed_text  \n",
       "84716                     Unusual Ancestry state  \n",
       "115303       recycle Opens Door circular economy  \n",
       "113105   N rank high Apple List Best Places work  \n",
       "172993  major Banks help Shady Lenders ban state  \n",
       "38283         passenger Priority United Airlines  "
      ]
     },
     "execution_count": 148,
     "metadata": {},
     "output_type": "execute_result"
    }
   ],
   "source": [
    "balanced_df.head()"
   ]
  },
  {
   "cell_type": "code",
   "execution_count": 149,
   "metadata": {},
   "outputs": [],
   "source": [
    "xtr,xt,ytr,yt = train_test_split(balanced_df.preprocessed_text ,\n",
    " balanced_df.n_category ,\n",
    " test_size=0.2,\n",
    " random_state=2024,\n",
    " stratify=balanced_df.n_category\n",
    ")"
   ]
  },
  {
   "cell_type": "code",
   "execution_count": 150,
   "metadata": {},
   "outputs": [
    {
     "name": "stdout",
     "output_type": "stream",
     "text": [
      "              precision    recall  f1-score   support\n",
      "\n",
      "           0       0.86      0.82      0.84       442\n",
      "           1       0.88      0.88      0.88       441\n",
      "           2       0.84      0.90      0.87       441\n",
      "           3       0.88      0.85      0.87       441\n",
      "\n",
      "    accuracy                           0.86      1765\n",
      "   macro avg       0.86      0.86      0.86      1765\n",
      "weighted avg       0.86      0.86      0.86      1765\n",
      "\n"
     ]
    }
   ],
   "source": [
    "clf = Pipeline([\n",
    "    ('v',CountVectorizer(ngram_range=(1,2))),\n",
    "    ('nb',MultinomialNB())\n",
    "])\n",
    "clf.fit(xtr,ytr)\n",
    "ypred = clf.predict(xt)\n",
    "print(classification_report(yt,ypred))"
   ]
  },
  {
   "cell_type": "code",
   "execution_count": null,
   "metadata": {},
   "outputs": [],
   "source": []
  }
 ],
 "metadata": {
  "kernelspec": {
   "display_name": "Python 3",
   "language": "python",
   "name": "python3"
  },
  "language_info": {
   "codemirror_mode": {
    "name": "ipython",
    "version": 3
   },
   "file_extension": ".py",
   "mimetype": "text/x-python",
   "name": "python",
   "nbconvert_exporter": "python",
   "pygments_lexer": "ipython3",
   "version": "3.12.2"
  }
 },
 "nbformat": 4,
 "nbformat_minor": 2
}
